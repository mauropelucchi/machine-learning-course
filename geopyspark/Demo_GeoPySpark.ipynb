{
 "cells": [
  {
   "cell_type": "code",
   "execution_count": 1,
   "metadata": {
    "collapsed": true
   },
   "outputs": [],
   "source": [
    "import datetime\n",
    "import numpy as np\n",
    "import pyproj\n",
    "import geopyspark as gps\n",
    "\n",
    "from pyspark import SparkContext\n",
    "from shapely.geometry import box, Point"
   ]
  },
  {
   "cell_type": "code",
   "execution_count": 2,
   "metadata": {},
   "outputs": [],
   "source": [
    "conf = gps.geopyspark_conf(master=\"local[*]\", appName=\"myapp\")\n",
    "pysc = SparkContext(conf=conf)"
   ]
  },
  {
   "cell_type": "code",
   "execution_count": 3,
   "metadata": {},
   "outputs": [],
   "source": [
    "raster_layer = gps.geotiff.get(layer_type=gps.LayerType.SPATIAL, uri=\"file:///home/hadoop/notebooks/cropped.tif\")"
   ]
  },
  {
   "cell_type": "code",
   "execution_count": 4,
   "metadata": {},
   "outputs": [
    {
     "data": {
      "text/plain": [
       "TiledRasterLayer(layer_type=LayerType.SPATIAL, zoom_level=11, is_floating_point_layer=False)"
      ]
     },
     "execution_count": 4,
     "metadata": {},
     "output_type": "execute_result"
    }
   ],
   "source": [
    "tiled_raster_layer = raster_layer.tile_to_layout(gps.GlobalLayout(), target_crs=3857)\n",
    "tiled_raster_layer"
   ]
  },
  {
   "cell_type": "code",
   "execution_count": 5,
   "metadata": {},
   "outputs": [
    {
     "data": {
      "text/plain": [
       "11"
      ]
     },
     "execution_count": 5,
     "metadata": {},
     "output_type": "execute_result"
    }
   ],
   "source": [
    "pyramided_layer = tiled_raster_layer.pyramid()\n",
    "pyramided_layer.max_zoom"
   ]
  },
  {
   "cell_type": "code",
   "execution_count": 7,
   "metadata": {
    "collapsed": true
   },
   "outputs": [],
   "source": [
    "for tiled_layer in pyramided_layer.levels.values():\n",
    "    gps.write(uri=\"file:///home/hadoop/notebooks/p1\", layer_name=\"cropped\", tiled_raster_layer=tiled_layer)"
   ]
  },
  {
   "cell_type": "code",
   "execution_count": 18,
   "metadata": {},
   "outputs": [],
   "source": [
    "t1 = pyramided_layer.levels.get(11)"
   ]
  },
  {
   "cell_type": "code",
   "execution_count": 19,
   "metadata": {},
   "outputs": [],
   "source": [
    "t1.save_stitched(path='/home/hadoop/notebooks/l_11.tif')"
   ]
  },
  {
   "cell_type": "code",
   "execution_count": 113,
   "metadata": {},
   "outputs": [
    {
     "name": "stdout",
     "output_type": "stream",
     "text": [
      "Extent(xmin=8905559.263461886, ymin=557272.7666948338, xmax=9016908.322868723, ymax=781182.2141882492)\n"
     ]
    }
   ],
   "source": [
    "extent = tiled_raster_layer.layer_metadata.extent\n",
    "print(extent)"
   ]
  },
  {
   "cell_type": "code",
   "execution_count": 68,
   "metadata": {},
   "outputs": [
    {
     "name": "stdout",
     "output_type": "stream",
     "text": [
      "8961233.793165304\n",
      "669227.4904415414\n"
     ]
    }
   ],
   "source": [
    "print(extent.xmin + (extent.xmax-extent.xmin)/2)\n",
    "print(extent.ymin + (extent.ymax-extent.ymin)/2)\n"
   ]
  },
  {
   "cell_type": "code",
   "execution_count": 114,
   "metadata": {},
   "outputs": [
    {
     "data": {
      "text/plain": [
       "<LayerType.SPATIAL: 'spatial'>"
      ]
     },
     "execution_count": 114,
     "metadata": {},
     "output_type": "execute_result"
    }
   ],
   "source": [
    "tiled_raster_layer.layer_type"
   ]
  },
  {
   "cell_type": "code",
   "execution_count": 87,
   "metadata": {
    "collapsed": true
   },
   "outputs": [],
   "source": []
  },
  {
   "cell_type": "code",
   "execution_count": 91,
   "metadata": {},
   "outputs": [],
   "source": []
  },
  {
   "cell_type": "code",
   "execution_count": 94,
   "metadata": {},
   "outputs": [],
   "source": []
  },
  {
   "cell_type": "code",
   "execution_count": 110,
   "metadata": {},
   "outputs": [],
   "source": [
    "max_val = 0.0;\n",
    "max_x = extent.xmin;\n",
    "max_y = extent.ymin;\n",
    "for x in range(int(extent.xmin), int(extent.xmax), 10000):\n",
    "    for y in range(int(extent.ymin), int(extent.ymax), 10000):\n",
    "        p1 = Point(x, y)\n",
    "        v = tiled_raster_layer.get_point_values(points=[p1])\n",
    "        if (v and v[0][1] and v[0][1][0] > max_val):\n",
    "            max_x=x\n",
    "            max_y=y\n",
    "            max_val=v[0][1][0]"
   ]
  },
  {
   "cell_type": "code",
   "execution_count": 111,
   "metadata": {},
   "outputs": [
    {
     "name": "stdout",
     "output_type": "stream",
     "text": [
      "2013.0\n",
      "8995559\n",
      "757272\n"
     ]
    }
   ],
   "source": [
    "print(max_val)\n",
    "print(max_x)\n",
    "print(max_y)"
   ]
  },
  {
   "cell_type": "code",
   "execution_count": 116,
   "metadata": {},
   "outputs": [],
   "source": [
    "tiled_raster_layer_new = (tiled_raster_layer / 2013)"
   ]
  },
  {
   "cell_type": "code",
   "execution_count": 117,
   "metadata": {
    "collapsed": true
   },
   "outputs": [],
   "source": [
    "tiled_raster_layer_new.save_stitched(path='/home/hadoop/notebooks/l2.tif')"
   ]
  },
  {
   "cell_type": "code",
   "execution_count": 118,
   "metadata": {},
   "outputs": [
    {
     "data": {
      "text/plain": [
       "[(<shapely.geometry.point.Point at 0x7f8595565550>, [1.0])]"
      ]
     },
     "execution_count": 118,
     "metadata": {},
     "output_type": "execute_result"
    }
   ],
   "source": [
    "p1 = Point(max_x, max_y)\n",
    "tiled_raster_layer_new.get_point_values(points=[p1])"
   ]
  },
  {
   "cell_type": "code",
   "execution_count": 119,
   "metadata": {
    "collapsed": true
   },
   "outputs": [],
   "source": [
    "'''\n",
    "A square neighborhood with an extent of 1.\n",
    "o = source cell\n",
    "x = cells that fall within the neighbhorhood\n",
    "\n",
    "x x x\n",
    "x o x\n",
    "x x x\n",
    "'''\n",
    "\n",
    "square = gps.Square(extent=1)"
   ]
  },
  {
   "cell_type": "code",
   "execution_count": 120,
   "metadata": {},
   "outputs": [],
   "source": [
    "tiled_raster_layer_new = tiled_raster_layer.focal(operation=gps.Operation.MEAN, neighborhood=square)\n"
   ]
  },
  {
   "cell_type": "code",
   "execution_count": 121,
   "metadata": {},
   "outputs": [
    {
     "data": {
      "text/plain": [
       "[(<shapely.geometry.point.Point at 0x7f85954de4e0>, [2028.5555555555557])]"
      ]
     },
     "execution_count": 121,
     "metadata": {},
     "output_type": "execute_result"
    }
   ],
   "source": [
    "p1 = Point(max_x, max_y)\n",
    "tiled_raster_layer_new.get_point_values(points=[p1])"
   ]
  },
  {
   "cell_type": "code",
   "execution_count": null,
   "metadata": {
    "collapsed": true
   },
   "outputs": [],
   "source": []
  }
 ],
 "metadata": {
  "kernelspec": {
   "display_name": "PySpark (local)",
   "language": "python",
   "name": "pyspark"
  },
  "language_info": {
   "codemirror_mode": {
    "name": "ipython",
    "version": 3
   },
   "file_extension": ".py",
   "mimetype": "text/x-python",
   "name": "python",
   "nbconvert_exporter": "python",
   "pygments_lexer": "ipython3",
   "version": "3.4.8"
  }
 },
 "nbformat": 4,
 "nbformat_minor": 2
}
